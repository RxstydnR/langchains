{
 "cells": [
  {
   "cell_type": "markdown",
   "id": "97a3b291-43ae-4a51-a02b-c6e8b53bef55",
   "metadata": {
    "tags": []
   },
   "source": [
    "# 非同期処理"
   ]
  },
  {
   "cell_type": "code",
   "execution_count": 1,
   "id": "b5fe88df-2e6b-45a3-bf13-2aaec016540e",
   "metadata": {
    "tags": []
   },
   "outputs": [],
   "source": [
    "import os\n",
    "os.environ[\"OPENAI_API_KEY\"] = \"sk-\""
   ]
  },
  {
   "cell_type": "code",
   "execution_count": 2,
   "id": "205e7702-525b-46f1-9bef-192db45bfdc0",
   "metadata": {},
   "outputs": [],
   "source": [
    "import warnings\n",
    "warnings.simplefilter('ignore')"
   ]
  },
  {
   "cell_type": "code",
   "execution_count": null,
   "id": "f3d4c89a-f3f4-4193-8145-f5a1c41b58fa",
   "metadata": {},
   "outputs": [],
   "source": [
    "import asyncio\n",
    "import logging\n",
    "from tqdm import tqdm\n",
    "from concurrent.futures import ThreadPoolExecutor\n",
    "\n",
    "# 以下、jupyterで実行する場合\n",
    "# !pip install nest-asyncio\n",
    "import nest_asyncio\n",
    "nest_asyncio.apply()"
   ]
  },
  {
   "cell_type": "code",
   "execution_count": 119,
   "id": "118cdea2-a71a-434f-878d-5d3b445c9961",
   "metadata": {},
   "outputs": [],
   "source": [
    "# GPT-3からの応答を取得する関数\n",
    "def get_gpt_response(qa,question: str) -> str:\n",
    "    try:\n",
    "        reply = qa.run(question)\n",
    "        return reply\n",
    "    \n",
    "    except Exception as e:\n",
    "        # エラーロギング\n",
    "        logging.error(f\"エラー: {str(e)}\")\n",
    "        raise ValueError(f\"エラーが発生しました。{str(e)}\") "
   ]
  },
  {
   "cell_type": "markdown",
   "id": "a046e482-208a-4af8-b564-8d4a177b4e06",
   "metadata": {},
   "source": [
    "<font size=\"4\">`df`にQuestionが格納されているとする"
   ]
  },
  {
   "cell_type": "code",
   "execution_count": 120,
   "id": "39507335-204c-4580-a029-d4d8465ac912",
   "metadata": {},
   "outputs": [],
   "source": [
    "def async_gpt_responses(df,qa):\n",
    "    try:\n",
    "        # 新しい非同期ループを作成\n",
    "        loop = asyncio.new_event_loop()\n",
    "        asyncio.set_event_loop(loop)\n",
    "        \n",
    "        with ThreadPoolExecutor() as executor:\n",
    "            tasks = []\n",
    "            for i in range(len(df)):\n",
    "                question = df.iloc[i][\"question\"]\n",
    "                task = loop.run_in_executor(executor, get_gpt_response, qa, question)\n",
    "                tasks.append(task)\n",
    "                        \n",
    "            responses = loop.run_until_complete(asyncio.gather(*tasks))\n",
    "        \n",
    "    except Exception as e:\n",
    "        # エラーロギング\n",
    "        logging.error(f\"エラー: {str(e)}\")\n",
    "        raise ValueError(f\"エラーが発生しました。{str(e)}\")\n",
    "    finally:\n",
    "        # イベントループのクローズ\n",
    "        loop.close()\n",
    "\n",
    "    return responses"
   ]
  },
  {
   "cell_type": "code",
   "execution_count": 310,
   "id": "2795c430-96ba-4575-9515-b16f6edafd3e",
   "metadata": {
    "tags": []
   },
   "outputs": [
    {
     "name": "stdout",
     "output_type": "stream",
     "text": [
      "CPU times: user 910 ms, sys: 157 ms, total: 1.07 s\n",
      "Wall time: 24.9 s\n"
     ]
    }
   ],
   "source": [
    "%%time\n",
    "# 非同期で応答を取得\n",
    "responses = async_gpt_responses(df_qa_50,qa)"
   ]
  },
  {
   "cell_type": "code",
   "execution_count": 311,
   "id": "7116475c-ae3d-4257-88f7-9300fd338fa3",
   "metadata": {},
   "outputs": [],
   "source": [
    "df.loc[:,\"Answer\"] = responses"
   ]
  }
 ],
 "metadata": {
  "kernelspec": {
   "display_name": "Python 3 (ipykernel)",
   "language": "python",
   "name": "python3"
  },
  "language_info": {
   "codemirror_mode": {
    "name": "ipython",
    "version": 3
   },
   "file_extension": ".py",
   "mimetype": "text/x-python",
   "name": "python",
   "nbconvert_exporter": "python",
   "pygments_lexer": "ipython3",
   "version": "3.10.11"
  }
 },
 "nbformat": 4,
 "nbformat_minor": 5
}
