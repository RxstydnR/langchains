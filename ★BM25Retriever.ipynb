{
 "cells": [
  {
   "cell_type": "code",
   "execution_count": null,
   "id": "b5fe88df-2e6b-45a3-bf13-2aaec016540e",
   "metadata": {
    "tags": []
   },
   "outputs": [],
   "source": [
    "import os\n",
    "os.environ[\"OPENAI_API_KEY\"] = \"\""
   ]
  },
  {
   "cell_type": "code",
   "execution_count": 1,
   "id": "205e7702-525b-46f1-9bef-192db45bfdc0",
   "metadata": {},
   "outputs": [],
   "source": [
    "import warnings\n",
    "warnings.simplefilter('ignore')"
   ]
  },
  {
   "cell_type": "markdown",
   "id": "d7dbc8c9-0211-4ed2-a571-e81c5fb86d09",
   "metadata": {
    "tags": []
   },
   "source": [
    "# Sparse Retriever(BM25)"
   ]
  },
  {
   "cell_type": "markdown",
   "id": "976b181f-226a-4c90-b508-cd4dd7c4d9a5",
   "metadata": {
    "heading_collapsed": "true",
    "tags": []
   },
   "source": [
    "## 前処理"
   ]
  },
  {
   "cell_type": "code",
   "execution_count": 2,
   "id": "ccd46eab-4eee-4208-9685-79ace1e54517",
   "metadata": {
    "tags": []
   },
   "outputs": [],
   "source": [
    "# !pip install janome"
   ]
  },
  {
   "cell_type": "code",
   "execution_count": 3,
   "id": "c659db38-c3c2-4c1d-9bcf-d206c9e826f3",
   "metadata": {},
   "outputs": [],
   "source": [
    "from typing import List\n",
    "import requests\n",
    "\n",
    "# 日本語ストップワード辞書\n",
    "url = \"https://raw.githubusercontent.com/stopwords-iso/stopwords-ja/master/stopwords-ja.txt\"\n",
    "stopwords_jp = requests.get(url).text.split(\"\\n\")\n",
    "\n",
    "def remove_stopwords(tokens: List[str]) -> List[str]:\n",
    "    \"\"\"指定した単語リストからストップワードを除去した結果を返す\"\"\"\n",
    "    tokens = [token for token in tokens if token not in stopwords_jp]\n",
    "    return tokens\n",
    "\n",
    "from janome.tokenizer import Tokenizer\n",
    "def preprocess_jp(text: str) -> List[str]:\n",
    "    \"\"\"日本語テキストを前処理してトークンリストを返す\"\"\"\n",
    "\n",
    "    # 改行コードの除去\n",
    "    text = text.replace(\"\\n\", \"\")\n",
    "\n",
    "    # Janomeで特定の品詞のみのトークンリストを作成\n",
    "    pos_list = [\"名詞\", \"動詞\", \"形容詞\"]\n",
    "    tokenizer = Tokenizer()\n",
    "    tokens = tokenizer.tokenize(text)\n",
    "\n",
    "    word_list = [token.surface for token in tokens if token.part_of_speech.split(',')[0] in pos_list]\n",
    "\n",
    "    return remove_stopwords(word_list)"
   ]
  },
  {
   "cell_type": "markdown",
   "id": "89fd09aa-c520-4521-8352-8c6fb95c485c",
   "metadata": {
    "tags": []
   },
   "source": [
    "## BM25Retriever"
   ]
  },
  {
   "cell_type": "code",
   "execution_count": 4,
   "id": "2c13b3bd-b312-4bac-8996-2616c9e4dc5d",
   "metadata": {
    "tags": []
   },
   "outputs": [],
   "source": [
    "# !pip install rank_bm25"
   ]
  },
  {
   "cell_type": "code",
   "execution_count": null,
   "id": "3f447962-9d03-48d4-ad24-a44d860fab59",
   "metadata": {},
   "outputs": [],
   "source": [
    "# def docs2text(docs):\n",
    "#     texts=[]\n",
    "#     for doc in docs:\n",
    "#         text = doc.page_content.replace(\"\\n\",\"\")\n",
    "#         text = remove_space(text).replace(\"、 \",\"、\").replace(\"。 \",\"。\")\n",
    "#         texts.append(text)\n",
    "#     return texts\n",
    "\n",
    "# texts = docs2text(docs)\n",
    "# metadata = [doc.metadata for doc in docs]"
   ]
  },
  {
   "cell_type": "code",
   "execution_count": 5,
   "id": "be301b56-e413-44e6-8638-7a3fc9cceb89",
   "metadata": {},
   "outputs": [],
   "source": [
    "from langchain.retrievers.bm25 import BM25Retriever\n",
    "bm25_retriever = BM25Retriever.from_documents(docs,preprocess_func=preprocess_jp)\n",
    "bm25_retriever.k = 5"
   ]
  },
  {
   "cell_type": "code",
   "execution_count": null,
   "id": "e840b2f7-9636-42b3-8756-491df6ea3a4c",
   "metadata": {},
   "outputs": [],
   "source": [
    "#　テスト\n",
    "# bm25_retriever.get_relevant_documents(\"マッキンゼー社とは、について解説してください。\")"
   ]
  },
  {
   "cell_type": "code",
   "execution_count": null,
   "id": "add7a2c5-61a8-42df-bfc5-1fd49a0eba58",
   "metadata": {},
   "outputs": [],
   "source": [
    "import pickle\n",
    "\n",
    "# BM25Retrieverの保存\n",
    "with open('pickled.pkl', 'wb') as f:\n",
    "    pickle.dump(bm25_retriever, f)\n",
    "\n",
    "# BM25Retrieverの読み込み\n",
    "with open('pickled.pkl', 'rb') as f:\n",
    "    bm25_retriever_ = pickle.load(f)  # 復元"
   ]
  },
  {
   "cell_type": "markdown",
   "id": "14051150-5e58-480d-86b2-a11118eed7b2",
   "metadata": {},
   "source": [
    "## RetrievalQA"
   ]
  },
  {
   "cell_type": "code",
   "execution_count": null,
   "id": "de847a01-8512-4f19-a1d1-0d10ccc9b2de",
   "metadata": {},
   "outputs": [],
   "source": [
    "# LLMの定義\n",
    "llm = ..."
   ]
  },
  {
   "cell_type": "code",
   "execution_count": 6,
   "id": "04b1e83c-7fe4-4399-b14c-1163d3f9a5c3",
   "metadata": {},
   "outputs": [],
   "source": [
    "from langchain.chains import RetrievalQA\n",
    "qa = RetrievalQA.from_chain_type(\n",
    "    llm=llm, \n",
    "    chain_type=\"stuff\", \n",
    "    retriever=bm25_retriever, \n",
    "    verbose=False\n",
    ")"
   ]
  },
  {
   "cell_type": "code",
   "execution_count": null,
   "id": "ab4f5006-fde9-4bab-838e-e0c47fa54dce",
   "metadata": {},
   "outputs": [],
   "source": [
    "qa."
   ]
  }
 ],
 "metadata": {
  "kernelspec": {
   "display_name": "Python 3 (ipykernel)",
   "language": "python",
   "name": "python3"
  },
  "language_info": {
   "codemirror_mode": {
    "name": "ipython",
    "version": 3
   },
   "file_extension": ".py",
   "mimetype": "text/x-python",
   "name": "python",
   "nbconvert_exporter": "python",
   "pygments_lexer": "ipython3",
   "version": "3.10.11"
  }
 },
 "nbformat": 4,
 "nbformat_minor": 5
}
